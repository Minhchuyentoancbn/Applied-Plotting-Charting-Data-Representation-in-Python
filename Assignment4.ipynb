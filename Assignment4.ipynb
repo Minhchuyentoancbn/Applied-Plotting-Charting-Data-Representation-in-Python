{
 "cells": [
  {
   "cell_type": "markdown",
   "metadata": {
    "jp-MarkdownHeadingCollapsed": true,
    "tags": []
   },
   "source": [
    "# Assignment 4\n",
    "\n",
    "Before working on this assignment please read these instructions fully. In the submission area, you will notice that you can click the link to **Preview the Grading** for each step of the assignment. This is the criteria that will be used for peer grading. Please familiarize yourself with the criteria before beginning the assignment.\n",
    "\n",
    "This assignment requires that you to find **at least** two datasets on the web which are related, and that you visualize these datasets to answer a question with the broad topic of **economic activity or measures** (see below) for the region of **Ann Arbor, Michigan, United States**, or **United States** more broadly.\n",
    "\n",
    "You can merge these datasets with data from different regions if you like! For instance, you might want to compare **Ann Arbor, Michigan, United States** to Ann Arbor, USA. In that case at least one source file must be about **Ann Arbor, Michigan, United States**.\n",
    "\n",
    "You are welcome to choose datasets at your discretion, but keep in mind **they will be shared with your peers**, so choose appropriate datasets. Sensitive, confidential, illicit, and proprietary materials are not good choices for datasets for this assignment. You are welcome to upload datasets of your own as well, and link to them using a third party repository such as github, bitbucket, pastebin, etc. Please be aware of the Coursera terms of service with respect to intellectual property.\n",
    "\n",
    "Also, you are welcome to preserve data in its original language, but for the purposes of grading you should provide english translations. You are welcome to provide multiple visuals in different languages if you would like!\n",
    "\n",
    "As this assignment is for the whole course, you must incorporate principles discussed in the first week, such as having as high data-ink ratio (Tufte) and aligning with Cairo’s principles of truth, beauty, function, and insight.\n",
    "\n",
    "Here are the assignment instructions:\n",
    "\n",
    " * State the region and the domain category that your data sets are about (e.g., **Ann Arbor, Michigan, United States** and **economic activity or measures**).\n",
    " * You must state a question about the domain category and region that you identified as being interesting.\n",
    " * You must provide at least two links to available datasets. These could be links to files such as CSV or Excel files, or links to websites which might have data in tabular form, such as Wikipedia pages.\n",
    " * You must upload an image which addresses the research question you stated. In addition to addressing the question, this visual should follow Cairo's principles of truthfulness, functionality, beauty, and insightfulness.\n",
    " * You must contribute a short (1-2 paragraph) written justification of how your visualization addresses your stated research question.\n",
    "\n",
    "What do we mean by **economic activity or measures**?  For this category you might look at the inputs or outputs to the given economy, or major changes in the economy compared to other regions.\n",
    "\n",
    "## Tips\n",
    "* Wikipedia is an excellent source of data, and I strongly encourage you to explore it for new data sources.\n",
    "* Many governments run open data initiatives at the city, region, and country levels, and these are wonderful resources for localized data sources.\n",
    "* Several international agencies, such as the [United Nations](http://data.un.org/), the [World Bank](http://data.worldbank.org/), the [Global Open Data Index](http://index.okfn.org/place/) are other great places to look for data.\n",
    "* This assignment requires you to convert and clean datafiles. Check out the discussion forums for tips on how to do this from various sources, and share your successes with your fellow students!\n",
    "\n",
    "## Example\n",
    "Looking for an example? Here's what our course assistant put together for the **Ann Arbor, MI, USA** area using **sports and athletics** as the topic. [Example Solution File](./readonly/Assignment4_example.pdf)"
   ]
  },
  {
   "cell_type": "markdown",
   "metadata": {
    "tags": []
   },
   "source": [
    "# Import libraries and datasets"
   ]
  },
  {
   "cell_type": "code",
   "execution_count": 1,
   "metadata": {
    "tags": []
   },
   "outputs": [],
   "source": [
    "import pandas as pd\n",
    "import numpy as np\n",
    "import matplotlib.pyplot as plt\n",
    "import seaborn as sns\n",
    "\n",
    "%matplotlib inline"
   ]
  },
  {
   "cell_type": "code",
   "execution_count": 2,
   "metadata": {
    "tags": []
   },
   "outputs": [],
   "source": [
    "income = pd.read_csv('data/Median Household Income.csv')"
   ]
  },
  {
   "cell_type": "code",
   "execution_count": 3,
   "metadata": {},
   "outputs": [
    {
     "data": {
      "text/html": [
       "<div>\n",
       "<style scoped>\n",
       "    .dataframe tbody tr th:only-of-type {\n",
       "        vertical-align: middle;\n",
       "    }\n",
       "\n",
       "    .dataframe tbody tr th {\n",
       "        vertical-align: top;\n",
       "    }\n",
       "\n",
       "    .dataframe thead th {\n",
       "        text-align: right;\n",
       "    }\n",
       "</style>\n",
       "<table border=\"1\" class=\"dataframe\">\n",
       "  <thead>\n",
       "    <tr style=\"text-align: right;\">\n",
       "      <th></th>\n",
       "      <th>ID Year</th>\n",
       "      <th>Year</th>\n",
       "      <th>Household Income by Race</th>\n",
       "      <th>Household Income by Race Moe</th>\n",
       "      <th>Geography</th>\n",
       "      <th>ID Geography</th>\n",
       "      <th>Slug Geography</th>\n",
       "    </tr>\n",
       "  </thead>\n",
       "  <tbody>\n",
       "    <tr>\n",
       "      <th>0</th>\n",
       "      <td>2019</td>\n",
       "      <td>2019</td>\n",
       "      <td>62843</td>\n",
       "      <td>135.0</td>\n",
       "      <td>United States</td>\n",
       "      <td>01000US</td>\n",
       "      <td>united-states</td>\n",
       "    </tr>\n",
       "    <tr>\n",
       "      <th>1</th>\n",
       "      <td>2019</td>\n",
       "      <td>2019</td>\n",
       "      <td>57144</td>\n",
       "      <td>216.0</td>\n",
       "      <td>Michigan</td>\n",
       "      <td>04000US26</td>\n",
       "      <td>michigan</td>\n",
       "    </tr>\n",
       "    <tr>\n",
       "      <th>2</th>\n",
       "      <td>2019</td>\n",
       "      <td>2019</td>\n",
       "      <td>72586</td>\n",
       "      <td>1463.0</td>\n",
       "      <td>Washtenaw County, MI</td>\n",
       "      <td>05000US26161</td>\n",
       "      <td>washtenaw-county-mi</td>\n",
       "    </tr>\n",
       "    <tr>\n",
       "      <th>3</th>\n",
       "      <td>2019</td>\n",
       "      <td>2019</td>\n",
       "      <td>72586</td>\n",
       "      <td>1463.0</td>\n",
       "      <td>Ann Arbor, MI</td>\n",
       "      <td>31000US11460</td>\n",
       "      <td>ann-arbor-mi-31000US11460</td>\n",
       "    </tr>\n",
       "    <tr>\n",
       "      <th>4</th>\n",
       "      <td>2019</td>\n",
       "      <td>2019</td>\n",
       "      <td>94064</td>\n",
       "      <td>2436.0</td>\n",
       "      <td>Washtenaw County (West, Northeast &amp; Southeast)...</td>\n",
       "      <td>79500US2602701</td>\n",
       "      <td>washtenaw-county-west-northeast-southeast-puma-mi</td>\n",
       "    </tr>\n",
       "  </tbody>\n",
       "</table>\n",
       "</div>"
      ],
      "text/plain": [
       "   ID Year  Year  Household Income by Race  Household Income by Race Moe  \\\n",
       "0     2019  2019                     62843                         135.0   \n",
       "1     2019  2019                     57144                         216.0   \n",
       "2     2019  2019                     72586                        1463.0   \n",
       "3     2019  2019                     72586                        1463.0   \n",
       "4     2019  2019                     94064                        2436.0   \n",
       "\n",
       "                                           Geography    ID Geography  \\\n",
       "0                                      United States         01000US   \n",
       "1                                           Michigan       04000US26   \n",
       "2                               Washtenaw County, MI    05000US26161   \n",
       "3                                      Ann Arbor, MI    31000US11460   \n",
       "4  Washtenaw County (West, Northeast & Southeast)...  79500US2602701   \n",
       "\n",
       "                                      Slug Geography  \n",
       "0                                      united-states  \n",
       "1                                           michigan  \n",
       "2                                washtenaw-county-mi  \n",
       "3                          ann-arbor-mi-31000US11460  \n",
       "4  washtenaw-county-west-northeast-southeast-puma-mi  "
      ]
     },
     "execution_count": 3,
     "metadata": {},
     "output_type": "execute_result"
    }
   ],
   "source": [
    "income.head()"
   ]
  },
  {
   "cell_type": "code",
   "execution_count": 4,
   "metadata": {},
   "outputs": [],
   "source": [
    "wage = pd.read_csv('data/Wage Distribution.csv')"
   ]
  },
  {
   "cell_type": "code",
   "execution_count": 5,
   "metadata": {},
   "outputs": [
    {
     "data": {
      "text/html": [
       "<div>\n",
       "<style scoped>\n",
       "    .dataframe tbody tr th:only-of-type {\n",
       "        vertical-align: middle;\n",
       "    }\n",
       "\n",
       "    .dataframe tbody tr th {\n",
       "        vertical-align: top;\n",
       "    }\n",
       "\n",
       "    .dataframe thead th {\n",
       "        text-align: right;\n",
       "    }\n",
       "</style>\n",
       "<table border=\"1\" class=\"dataframe\">\n",
       "  <thead>\n",
       "    <tr style=\"text-align: right;\">\n",
       "      <th></th>\n",
       "      <th>ID Wage Bin</th>\n",
       "      <th>Wage Bin</th>\n",
       "      <th>ID Year</th>\n",
       "      <th>Year</th>\n",
       "      <th>ID Workforce Status</th>\n",
       "      <th>Workforce Status</th>\n",
       "      <th>Total Population</th>\n",
       "      <th>Total Population MOE Appx</th>\n",
       "      <th>Record Count</th>\n",
       "      <th>Geography</th>\n",
       "      <th>ID Geography</th>\n",
       "      <th>Slug Geography</th>\n",
       "      <th>share</th>\n",
       "    </tr>\n",
       "  </thead>\n",
       "  <tbody>\n",
       "    <tr>\n",
       "      <th>0</th>\n",
       "      <td>1</td>\n",
       "      <td>&lt; $10K</td>\n",
       "      <td>2019</td>\n",
       "      <td>2019</td>\n",
       "      <td>True</td>\n",
       "      <td>True</td>\n",
       "      <td>17042451</td>\n",
       "      <td>95317.601983</td>\n",
       "      <td>835057</td>\n",
       "      <td>United States</td>\n",
       "      <td>01000US</td>\n",
       "      <td>united-states</td>\n",
       "      <td>0.115568</td>\n",
       "    </tr>\n",
       "    <tr>\n",
       "      <th>1</th>\n",
       "      <td>2</td>\n",
       "      <td>$10-20k</td>\n",
       "      <td>2019</td>\n",
       "      <td>2019</td>\n",
       "      <td>True</td>\n",
       "      <td>True</td>\n",
       "      <td>18892384</td>\n",
       "      <td>99643.372506</td>\n",
       "      <td>848357</td>\n",
       "      <td>United States</td>\n",
       "      <td>01000US</td>\n",
       "      <td>united-states</td>\n",
       "      <td>0.128112</td>\n",
       "    </tr>\n",
       "    <tr>\n",
       "      <th>2</th>\n",
       "      <td>3</td>\n",
       "      <td>$20-30k</td>\n",
       "      <td>2019</td>\n",
       "      <td>2019</td>\n",
       "      <td>True</td>\n",
       "      <td>True</td>\n",
       "      <td>20640639</td>\n",
       "      <td>103441.250408</td>\n",
       "      <td>911251</td>\n",
       "      <td>United States</td>\n",
       "      <td>01000US</td>\n",
       "      <td>united-states</td>\n",
       "      <td>0.139967</td>\n",
       "    </tr>\n",
       "    <tr>\n",
       "      <th>3</th>\n",
       "      <td>4</td>\n",
       "      <td>$30-40k</td>\n",
       "      <td>2019</td>\n",
       "      <td>2019</td>\n",
       "      <td>True</td>\n",
       "      <td>True</td>\n",
       "      <td>19166321</td>\n",
       "      <td>100256.208298</td>\n",
       "      <td>875269</td>\n",
       "      <td>United States</td>\n",
       "      <td>01000US</td>\n",
       "      <td>united-states</td>\n",
       "      <td>0.129970</td>\n",
       "    </tr>\n",
       "    <tr>\n",
       "      <th>4</th>\n",
       "      <td>5</td>\n",
       "      <td>$40-50k</td>\n",
       "      <td>2019</td>\n",
       "      <td>2019</td>\n",
       "      <td>True</td>\n",
       "      <td>True</td>\n",
       "      <td>15446173</td>\n",
       "      <td>91297.539461</td>\n",
       "      <td>731539</td>\n",
       "      <td>United States</td>\n",
       "      <td>01000US</td>\n",
       "      <td>united-states</td>\n",
       "      <td>0.104743</td>\n",
       "    </tr>\n",
       "  </tbody>\n",
       "</table>\n",
       "</div>"
      ],
      "text/plain": [
       "   ID Wage Bin Wage Bin  ID Year  Year  ID Workforce Status  Workforce Status  \\\n",
       "0            1   < $10K     2019  2019                 True              True   \n",
       "1            2  $10-20k     2019  2019                 True              True   \n",
       "2            3  $20-30k     2019  2019                 True              True   \n",
       "3            4  $30-40k     2019  2019                 True              True   \n",
       "4            5  $40-50k     2019  2019                 True              True   \n",
       "\n",
       "   Total Population  Total Population MOE Appx  Record Count      Geography  \\\n",
       "0          17042451               95317.601983        835057  United States   \n",
       "1          18892384               99643.372506        848357  United States   \n",
       "2          20640639              103441.250408        911251  United States   \n",
       "3          19166321              100256.208298        875269  United States   \n",
       "4          15446173               91297.539461        731539  United States   \n",
       "\n",
       "  ID Geography Slug Geography     share  \n",
       "0      01000US  united-states  0.115568  \n",
       "1      01000US  united-states  0.128112  \n",
       "2      01000US  united-states  0.139967  \n",
       "3      01000US  united-states  0.129970  \n",
       "4      01000US  united-states  0.104743  "
      ]
     },
     "execution_count": 5,
     "metadata": {},
     "output_type": "execute_result"
    }
   ],
   "source": [
    "wage.head()"
   ]
  },
  {
   "cell_type": "markdown",
   "metadata": {
    "tags": []
   },
   "source": [
    "# Inspect the data"
   ]
  },
  {
   "cell_type": "markdown",
   "metadata": {
    "jp-MarkdownHeadingCollapsed": true,
    "tags": []
   },
   "source": [
    "## Median Income"
   ]
  },
  {
   "cell_type": "code",
   "execution_count": 6,
   "metadata": {},
   "outputs": [
    {
     "name": "stdout",
     "output_type": "stream",
     "text": [
      "<class 'pandas.core.frame.DataFrame'>\n",
      "RangeIndex: 49 entries, 0 to 48\n",
      "Data columns (total 7 columns):\n",
      " #   Column                        Non-Null Count  Dtype  \n",
      "---  ------                        --------------  -----  \n",
      " 0   ID Year                       49 non-null     int64  \n",
      " 1   Year                          49 non-null     int64  \n",
      " 2   Household Income by Race      49 non-null     int64  \n",
      " 3   Household Income by Race Moe  49 non-null     float64\n",
      " 4   Geography                     49 non-null     object \n",
      " 5   ID Geography                  49 non-null     object \n",
      " 6   Slug Geography                49 non-null     object \n",
      "dtypes: float64(1), int64(3), object(3)\n",
      "memory usage: 2.8+ KB\n"
     ]
    }
   ],
   "source": [
    "income.info()"
   ]
  },
  {
   "cell_type": "code",
   "execution_count": 7,
   "metadata": {},
   "outputs": [
    {
     "data": {
      "text/plain": [
       "ID Year                          7\n",
       "Year                             7\n",
       "Household Income by Race        41\n",
       "Household Income by Race Moe    42\n",
       "Geography                        7\n",
       "ID Geography                     7\n",
       "Slug Geography                   7\n",
       "dtype: int64"
      ]
     },
     "execution_count": 7,
     "metadata": {},
     "output_type": "execute_result"
    }
   ],
   "source": [
    "income.nunique()"
   ]
  },
  {
   "cell_type": "code",
   "execution_count": 8,
   "metadata": {},
   "outputs": [],
   "source": [
    "income.drop(\n",
    "    columns=['ID Year', 'Household Income by Race Moe', 'Slug Geography'], \n",
    "    inplace=True\n",
    ")"
   ]
  },
  {
   "cell_type": "code",
   "execution_count": 9,
   "metadata": {},
   "outputs": [
    {
     "data": {
      "text/html": [
       "<div>\n",
       "<style scoped>\n",
       "    .dataframe tbody tr th:only-of-type {\n",
       "        vertical-align: middle;\n",
       "    }\n",
       "\n",
       "    .dataframe tbody tr th {\n",
       "        vertical-align: top;\n",
       "    }\n",
       "\n",
       "    .dataframe thead th {\n",
       "        text-align: right;\n",
       "    }\n",
       "</style>\n",
       "<table border=\"1\" class=\"dataframe\">\n",
       "  <thead>\n",
       "    <tr style=\"text-align: right;\">\n",
       "      <th></th>\n",
       "      <th>Year</th>\n",
       "      <th>Household Income by Race</th>\n",
       "      <th>Geography</th>\n",
       "      <th>ID Geography</th>\n",
       "    </tr>\n",
       "  </thead>\n",
       "  <tbody>\n",
       "    <tr>\n",
       "      <th>0</th>\n",
       "      <td>2019</td>\n",
       "      <td>62843</td>\n",
       "      <td>United States</td>\n",
       "      <td>01000US</td>\n",
       "    </tr>\n",
       "    <tr>\n",
       "      <th>1</th>\n",
       "      <td>2019</td>\n",
       "      <td>57144</td>\n",
       "      <td>Michigan</td>\n",
       "      <td>04000US26</td>\n",
       "    </tr>\n",
       "    <tr>\n",
       "      <th>2</th>\n",
       "      <td>2019</td>\n",
       "      <td>72586</td>\n",
       "      <td>Washtenaw County, MI</td>\n",
       "      <td>05000US26161</td>\n",
       "    </tr>\n",
       "    <tr>\n",
       "      <th>3</th>\n",
       "      <td>2019</td>\n",
       "      <td>72586</td>\n",
       "      <td>Ann Arbor, MI</td>\n",
       "      <td>31000US11460</td>\n",
       "    </tr>\n",
       "    <tr>\n",
       "      <th>4</th>\n",
       "      <td>2019</td>\n",
       "      <td>94064</td>\n",
       "      <td>Washtenaw County (West, Northeast &amp; Southeast)...</td>\n",
       "      <td>79500US2602701</td>\n",
       "    </tr>\n",
       "  </tbody>\n",
       "</table>\n",
       "</div>"
      ],
      "text/plain": [
       "   Year  Household Income by Race  \\\n",
       "0  2019                     62843   \n",
       "1  2019                     57144   \n",
       "2  2019                     72586   \n",
       "3  2019                     72586   \n",
       "4  2019                     94064   \n",
       "\n",
       "                                           Geography    ID Geography  \n",
       "0                                      United States         01000US  \n",
       "1                                           Michigan       04000US26  \n",
       "2                               Washtenaw County, MI    05000US26161  \n",
       "3                                      Ann Arbor, MI    31000US11460  \n",
       "4  Washtenaw County (West, Northeast & Southeast)...  79500US2602701  "
      ]
     },
     "execution_count": 9,
     "metadata": {},
     "output_type": "execute_result"
    }
   ],
   "source": [
    "income.head()"
   ]
  },
  {
   "cell_type": "markdown",
   "metadata": {
    "tags": []
   },
   "source": [
    "## Wage"
   ]
  },
  {
   "cell_type": "code",
   "execution_count": 10,
   "metadata": {},
   "outputs": [
    {
     "name": "stdout",
     "output_type": "stream",
     "text": [
      "<class 'pandas.core.frame.DataFrame'>\n",
      "RangeIndex: 252 entries, 0 to 251\n",
      "Data columns (total 13 columns):\n",
      " #   Column                     Non-Null Count  Dtype  \n",
      "---  ------                     --------------  -----  \n",
      " 0   ID Wage Bin                252 non-null    int64  \n",
      " 1   Wage Bin                   252 non-null    object \n",
      " 2   ID Year                    252 non-null    int64  \n",
      " 3   Year                       252 non-null    int64  \n",
      " 4   ID Workforce Status        252 non-null    bool   \n",
      " 5   Workforce Status           252 non-null    bool   \n",
      " 6   Total Population           252 non-null    int64  \n",
      " 7   Total Population MOE Appx  252 non-null    float64\n",
      " 8   Record Count               252 non-null    int64  \n",
      " 9   Geography                  252 non-null    object \n",
      " 10  ID Geography               252 non-null    object \n",
      " 11  Slug Geography             126 non-null    object \n",
      " 12  share                      252 non-null    float64\n",
      "dtypes: bool(2), float64(2), int64(5), object(4)\n",
      "memory usage: 22.3+ KB\n"
     ]
    }
   ],
   "source": [
    "wage.info()"
   ]
  },
  {
   "cell_type": "code",
   "execution_count": 11,
   "metadata": {},
   "outputs": [
    {
     "data": {
      "text/plain": [
       "ID Wage Bin                   21\n",
       "Wage Bin                      21\n",
       "ID Year                        6\n",
       "Year                           6\n",
       "ID Workforce Status            1\n",
       "Workforce Status               1\n",
       "Total Population             252\n",
       "Total Population MOE Appx    252\n",
       "Record Count                 252\n",
       "Geography                      2\n",
       "ID Geography                   2\n",
       "Slug Geography                 1\n",
       "share                        252\n",
       "dtype: int64"
      ]
     },
     "execution_count": 11,
     "metadata": {},
     "output_type": "execute_result"
    }
   ],
   "source": [
    "wage.nunique()"
   ]
  },
  {
   "cell_type": "code",
   "execution_count": 12,
   "metadata": {},
   "outputs": [],
   "source": [
    "wage.drop(\n",
    "    columns=['ID Year', 'ID Workforce Status', 'Workforce Status', \n",
    "             'ID Geography', 'Slug Geography', 'ID Wage Bin', \n",
    "             'Total Population', 'Total Population MOE Appx',\n",
    "             'Record Count'], \n",
    "    inplace=True\n",
    ")"
   ]
  },
  {
   "cell_type": "code",
   "execution_count": 13,
   "metadata": {},
   "outputs": [
    {
     "data": {
      "text/html": [
       "<div>\n",
       "<style scoped>\n",
       "    .dataframe tbody tr th:only-of-type {\n",
       "        vertical-align: middle;\n",
       "    }\n",
       "\n",
       "    .dataframe tbody tr th {\n",
       "        vertical-align: top;\n",
       "    }\n",
       "\n",
       "    .dataframe thead th {\n",
       "        text-align: right;\n",
       "    }\n",
       "</style>\n",
       "<table border=\"1\" class=\"dataframe\">\n",
       "  <thead>\n",
       "    <tr style=\"text-align: right;\">\n",
       "      <th></th>\n",
       "      <th>Wage Bin</th>\n",
       "      <th>Year</th>\n",
       "      <th>Geography</th>\n",
       "      <th>share</th>\n",
       "    </tr>\n",
       "  </thead>\n",
       "  <tbody>\n",
       "    <tr>\n",
       "      <th>0</th>\n",
       "      <td>&lt; $10K</td>\n",
       "      <td>2019</td>\n",
       "      <td>United States</td>\n",
       "      <td>0.115568</td>\n",
       "    </tr>\n",
       "    <tr>\n",
       "      <th>1</th>\n",
       "      <td>$10-20k</td>\n",
       "      <td>2019</td>\n",
       "      <td>United States</td>\n",
       "      <td>0.128112</td>\n",
       "    </tr>\n",
       "    <tr>\n",
       "      <th>2</th>\n",
       "      <td>$20-30k</td>\n",
       "      <td>2019</td>\n",
       "      <td>United States</td>\n",
       "      <td>0.139967</td>\n",
       "    </tr>\n",
       "    <tr>\n",
       "      <th>3</th>\n",
       "      <td>$30-40k</td>\n",
       "      <td>2019</td>\n",
       "      <td>United States</td>\n",
       "      <td>0.129970</td>\n",
       "    </tr>\n",
       "    <tr>\n",
       "      <th>4</th>\n",
       "      <td>$40-50k</td>\n",
       "      <td>2019</td>\n",
       "      <td>United States</td>\n",
       "      <td>0.104743</td>\n",
       "    </tr>\n",
       "  </tbody>\n",
       "</table>\n",
       "</div>"
      ],
      "text/plain": [
       "  Wage Bin  Year      Geography     share\n",
       "0   < $10K  2019  United States  0.115568\n",
       "1  $10-20k  2019  United States  0.128112\n",
       "2  $20-30k  2019  United States  0.139967\n",
       "3  $30-40k  2019  United States  0.129970\n",
       "4  $40-50k  2019  United States  0.104743"
      ]
     },
     "execution_count": 13,
     "metadata": {},
     "output_type": "execute_result"
    }
   ],
   "source": [
    "wage.head()"
   ]
  },
  {
   "cell_type": "code",
   "execution_count": 14,
   "metadata": {},
   "outputs": [
    {
     "data": {
      "text/plain": [
       "array(['< $10K', '$10-20k', '$20-30k', '$30-40k', '$40-50k', '$50-60k',\n",
       "       '$60-70k', '$70-80k', '$80-90k', '$90-100k', '$100-110k',\n",
       "       '$110-120k', '$120-130k', '$130-140k', '$140-150k', '$150-160k',\n",
       "       '$160-170k', '$170-180k', '$180-190k', '$190-200k', '$200k+'],\n",
       "      dtype=object)"
      ]
     },
     "execution_count": 14,
     "metadata": {},
     "output_type": "execute_result"
    }
   ],
   "source": [
    "wage['Wage Bin'].unique()"
   ]
  },
  {
   "cell_type": "code",
   "execution_count": 15,
   "metadata": {},
   "outputs": [
    {
     "data": {
      "text/plain": [
       "CategoricalDtype(categories=['< $10K', '$10-20k', '$20-30k', '$30-40k', '$40-50k',\n",
       "                  '$50-60k', '$60-70k', '$70-80k', '$80-90k', '$90-100k',\n",
       "                  '$100-110k', '$110-120k', '$120-130k', '$130-140k',\n",
       "                  '$140-150k', '$150-160k', '$160-170k', '$170-180k',\n",
       "                  '$180-190k', '$190-200k', '$200k+'],\n",
       ", ordered=True)"
      ]
     },
     "execution_count": 15,
     "metadata": {},
     "output_type": "execute_result"
    }
   ],
   "source": [
    "wage_bins = pd.CategoricalDtype(wage['Wage Bin'].unique(), ordered=True)\n",
    "wage_bins"
   ]
  },
  {
   "cell_type": "code",
   "execution_count": 16,
   "metadata": {},
   "outputs": [],
   "source": [
    "wage['Wage Bin'] = wage['Wage Bin'].astype(wage_bins)"
   ]
  },
  {
   "cell_type": "code",
   "execution_count": 17,
   "metadata": {},
   "outputs": [
    {
     "data": {
      "text/plain": [
       "Wage Bin     category\n",
       "Year            int64\n",
       "Geography      object\n",
       "share         float64\n",
       "dtype: object"
      ]
     },
     "execution_count": 17,
     "metadata": {},
     "output_type": "execute_result"
    }
   ],
   "source": [
    "wage.dtypes"
   ]
  },
  {
   "cell_type": "markdown",
   "metadata": {
    "tags": []
   },
   "source": [
    "# Visualize Median Household Income"
   ]
  },
  {
   "cell_type": "code",
   "execution_count": 18,
   "metadata": {},
   "outputs": [
    {
     "data": {
      "text/html": [
       "<div>\n",
       "<style scoped>\n",
       "    .dataframe tbody tr th:only-of-type {\n",
       "        vertical-align: middle;\n",
       "    }\n",
       "\n",
       "    .dataframe tbody tr th {\n",
       "        vertical-align: top;\n",
       "    }\n",
       "\n",
       "    .dataframe thead th {\n",
       "        text-align: right;\n",
       "    }\n",
       "</style>\n",
       "<table border=\"1\" class=\"dataframe\">\n",
       "  <thead>\n",
       "    <tr style=\"text-align: right;\">\n",
       "      <th></th>\n",
       "      <th>Year</th>\n",
       "      <th>Household Income by Race</th>\n",
       "      <th>Geography</th>\n",
       "      <th>ID Geography</th>\n",
       "    </tr>\n",
       "  </thead>\n",
       "  <tbody>\n",
       "    <tr>\n",
       "      <th>0</th>\n",
       "      <td>2019</td>\n",
       "      <td>62843</td>\n",
       "      <td>United States</td>\n",
       "      <td>01000US</td>\n",
       "    </tr>\n",
       "    <tr>\n",
       "      <th>1</th>\n",
       "      <td>2019</td>\n",
       "      <td>57144</td>\n",
       "      <td>Michigan</td>\n",
       "      <td>04000US26</td>\n",
       "    </tr>\n",
       "    <tr>\n",
       "      <th>2</th>\n",
       "      <td>2019</td>\n",
       "      <td>72586</td>\n",
       "      <td>Washtenaw County, MI</td>\n",
       "      <td>05000US26161</td>\n",
       "    </tr>\n",
       "    <tr>\n",
       "      <th>3</th>\n",
       "      <td>2019</td>\n",
       "      <td>72586</td>\n",
       "      <td>Ann Arbor, MI</td>\n",
       "      <td>31000US11460</td>\n",
       "    </tr>\n",
       "    <tr>\n",
       "      <th>4</th>\n",
       "      <td>2019</td>\n",
       "      <td>94064</td>\n",
       "      <td>Washtenaw County (West, Northeast &amp; Southeast)...</td>\n",
       "      <td>79500US2602701</td>\n",
       "    </tr>\n",
       "  </tbody>\n",
       "</table>\n",
       "</div>"
      ],
      "text/plain": [
       "   Year  Household Income by Race  \\\n",
       "0  2019                     62843   \n",
       "1  2019                     57144   \n",
       "2  2019                     72586   \n",
       "3  2019                     72586   \n",
       "4  2019                     94064   \n",
       "\n",
       "                                           Geography    ID Geography  \n",
       "0                                      United States         01000US  \n",
       "1                                           Michigan       04000US26  \n",
       "2                               Washtenaw County, MI    05000US26161  \n",
       "3                                      Ann Arbor, MI    31000US11460  \n",
       "4  Washtenaw County (West, Northeast & Southeast)...  79500US2602701  "
      ]
     },
     "execution_count": 18,
     "metadata": {},
     "output_type": "execute_result"
    }
   ],
   "source": [
    "income.head()"
   ]
  },
  {
   "cell_type": "code",
   "execution_count": 19,
   "metadata": {},
   "outputs": [
    {
     "data": {
      "text/plain": [
       "Geography       7\n",
       "ID Geography    7\n",
       "dtype: int64"
      ]
     },
     "execution_count": 19,
     "metadata": {},
     "output_type": "execute_result"
    }
   ],
   "source": [
    "income.loc[:, ['Geography', 'ID Geography']].nunique()"
   ]
  },
  {
   "cell_type": "code",
   "execution_count": 20,
   "metadata": {},
   "outputs": [
    {
     "data": {
      "text/plain": [
       "array(['United States', 'Michigan', 'Washtenaw County, MI',\n",
       "       'Ann Arbor, MI',\n",
       "       'Washtenaw County (West, Northeast & Southeast) PUMA, MI',\n",
       "       'Ann Arbor City Area PUMA, MI',\n",
       "       'Washtenaw County (East Central, Outside Ann Arbor City) PUMA, MI'],\n",
       "      dtype=object)"
      ]
     },
     "execution_count": 20,
     "metadata": {},
     "output_type": "execute_result"
    }
   ],
   "source": [
    "income['Geography'].unique()"
   ]
  },
  {
   "cell_type": "code",
   "execution_count": 21,
   "metadata": {},
   "outputs": [
    {
     "data": {
      "text/plain": [
       "array([2019, 2018, 2017, 2016, 2015, 2014, 2013], dtype=int64)"
      ]
     },
     "execution_count": 21,
     "metadata": {},
     "output_type": "execute_result"
    }
   ],
   "source": [
    "income['Year'].unique()"
   ]
  },
  {
   "cell_type": "code",
   "execution_count": 22,
   "metadata": {},
   "outputs": [
    {
     "data": {
      "image/png": "[encoded data removed]",
      "text/plain": [
       "<Figure size 1800x720 with 1 Axes>"
      ]
     },
     "metadata": {
      "needs_background": "light"
     },
     "output_type": "display_data"
    }
   ],
   "source": [
    "plt.figure(figsize=(25, 10))\n",
    "sns.lineplot(data=income, x='Year', y='Household Income by Race', hue='Geography', linewidth=2)\n",
    "plt.xlim(2013, 2019)\n",
    "plt.ylim(top=95000)\n",
    "plt.yticks(np.arange(50000, 100000, 5000))\n",
    "plt.grid(axis='y')\n",
    "plt.gca().spines['top'].set_visible(False)\n",
    "plt.gca().spines['right'].set_visible(False)\n",
    "plt.title('Median Household Income', fontsize=20)\n",
    "plt.xlabel('Year', fontsize=15)\n",
    "plt.ylabel('Median Household Income', fontsize=15)\n",
    "plt.gca().yaxis.set_major_formatter(lambda x, pos: f'${int(x/1000)}k')"
   ]
  },
  {
   "cell_type": "markdown",
   "metadata": {},
   "source": [
    "# Wage Distribution"
   ]
  },
  {
   "cell_type": "code",
   "execution_count": 23,
   "metadata": {},
   "outputs": [
    {
     "data": {
      "text/html": [
       "<div>\n",
       "<style scoped>\n",
       "    .dataframe tbody tr th:only-of-type {\n",
       "        vertical-align: middle;\n",
       "    }\n",
       "\n",
       "    .dataframe tbody tr th {\n",
       "        vertical-align: top;\n",
       "    }\n",
       "\n",
       "    .dataframe thead th {\n",
       "        text-align: right;\n",
       "    }\n",
       "</style>\n",
       "<table border=\"1\" class=\"dataframe\">\n",
       "  <thead>\n",
       "    <tr style=\"text-align: right;\">\n",
       "      <th></th>\n",
       "      <th>Wage Bin</th>\n",
       "      <th>Year</th>\n",
       "      <th>Geography</th>\n",
       "      <th>share</th>\n",
       "    </tr>\n",
       "  </thead>\n",
       "  <tbody>\n",
       "    <tr>\n",
       "      <th>0</th>\n",
       "      <td>&lt; $10K</td>\n",
       "      <td>2019</td>\n",
       "      <td>United States</td>\n",
       "      <td>0.115568</td>\n",
       "    </tr>\n",
       "    <tr>\n",
       "      <th>1</th>\n",
       "      <td>$10-20k</td>\n",
       "      <td>2019</td>\n",
       "      <td>United States</td>\n",
       "      <td>0.128112</td>\n",
       "    </tr>\n",
       "    <tr>\n",
       "      <th>2</th>\n",
       "      <td>$20-30k</td>\n",
       "      <td>2019</td>\n",
       "      <td>United States</td>\n",
       "      <td>0.139967</td>\n",
       "    </tr>\n",
       "    <tr>\n",
       "      <th>3</th>\n",
       "      <td>$30-40k</td>\n",
       "      <td>2019</td>\n",
       "      <td>United States</td>\n",
       "      <td>0.129970</td>\n",
       "    </tr>\n",
       "    <tr>\n",
       "      <th>4</th>\n",
       "      <td>$40-50k</td>\n",
       "      <td>2019</td>\n",
       "      <td>United States</td>\n",
       "      <td>0.104743</td>\n",
       "    </tr>\n",
       "  </tbody>\n",
       "</table>\n",
       "</div>"
      ],
      "text/plain": [
       "  Wage Bin  Year      Geography     share\n",
       "0   < $10K  2019  United States  0.115568\n",
       "1  $10-20k  2019  United States  0.128112\n",
       "2  $20-30k  2019  United States  0.139967\n",
       "3  $30-40k  2019  United States  0.129970\n",
       "4  $40-50k  2019  United States  0.104743"
      ]
     },
     "execution_count": 23,
     "metadata": {},
     "output_type": "execute_result"
    }
   ],
   "source": [
    "wage.head()"
   ]
  },
  {
   "cell_type": "code",
   "execution_count": 24,
   "metadata": {},
   "outputs": [
    {
     "data": {
      "text/plain": [
       "array(['United States', 'Michigan'], dtype=object)"
      ]
     },
     "execution_count": 24,
     "metadata": {},
     "output_type": "execute_result"
    }
   ],
   "source": [
    "wage['Geography'].unique()"
   ]
  },
  {
   "cell_type": "code",
   "execution_count": 25,
   "metadata": {},
   "outputs": [
    {
     "data": {
      "text/plain": [
       "<matplotlib.legend.Legend at 0x1f3dfafa6a0>"
      ]
     },
     "execution_count": 25,
     "metadata": {},
     "output_type": "execute_result"
    },
    {
     "data": {
      "image/png": "[encoded data removed]",
      "text/plain": [
       "<Figure size 1800x720 with 1 Axes>"
      ]
     },
     "metadata": {
      "needs_background": "light"
     },
     "output_type": "display_data"
    }
   ],
   "source": [
    "plt.figure(figsize=(25, 10))\n",
    "sns.barplot(data=wage[wage['Year'] == 2019], x='Wage Bin', y='share', hue='Geography', color='orange')\n",
    "plt.grid(axis='y')\n",
    "plt.gca().spines['top'].set_visible(False)\n",
    "plt.gca().spines['right'].set_visible(False)\n",
    "plt.title('Wage Distribution in 2019', fontsize=20)\n",
    "plt.xlabel('Average Salary', fontsize=15)\n",
    "plt.ylabel('Share', fontsize=15)\n",
    "plt.gca().yaxis.set_major_formatter(lambda x, pos: f'{int(x*100)}%')\n",
    "plt.legend(prop={'size': 15})"
   ]
  },
  {
   "cell_type": "code",
   "execution_count": null,
   "metadata": {},
   "outputs": [],
   "source": []
  }
 ],
 "metadata": {
  "kernelspec": {
   "display_name": "Python 3 (ipykernel)",
   "language": "python",
   "name": "python3"
  },
  "language_info": {
   "codemirror_mode": {
    "name": "ipython",
    "version": 3
   },
   "file_extension": ".py",
   "mimetype": "text/x-python",
   "name": "python",
   "nbconvert_exporter": "python",
   "pygments_lexer": "ipython3",
   "version": "3.8.8"
  }
 },
 "nbformat": 4,
 "nbformat_minor": 4
}
